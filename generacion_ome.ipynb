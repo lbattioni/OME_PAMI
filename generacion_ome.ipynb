{
 "cells": [
  {
   "cell_type": "code",
   "execution_count": null,
   "metadata": {},
   "outputs": [],
   "source": [
    "from selenium import webdriver\n",
    "from selenium.webdriver.common.by import By\n",
    "from selenium.webdriver.common.action_chains import ActionChains\n",
    "from selenium.webdriver.support.wait import WebDriverWait\n",
    "from selenium.webdriver.common.keys import Keys\n",
    "from selenium.webdriver.chrome.service import Service\n",
    "from webdriver_manager.chrome import ChromeDriverManager\n",
    "from selenium.webdriver.support import expected_conditions as EC\n",
    "from selenium.webdriver.support.select import Select\n",
    "import pandas as pd\n",
    "import time\n",
    "from datetime import datetime\n",
    "import pandas as pd"
   ]
  },
  {
   "cell_type": "code",
   "execution_count": null,
   "metadata": {},
   "outputs": [],
   "source": [
    "#datos del usario. DF columan 0=usuario, columna 1= clave\n",
    "usuario=pd.read_excel('contrasena_usuario.xlsx')"
   ]
  },
  {
   "cell_type": "code",
   "execution_count": null,
   "metadata": {},
   "outputs": [],
   "source": [
    "#datos de los pacientes y sus practicas. DF columna 0=paciente, columna 1=n afiliado, columna 2=codigo de prestacion\n",
    "practicas=pd.read_excel('practicas.xlsx')"
   ]
  },
  {
   "cell_type": "code",
   "execution_count": null,
   "metadata": {},
   "outputs": [],
   "source": [
    "#acceso y login\n",
    "driver = webdriver.Chrome(service=Service(executable_path=ChromeDriverManager().install()))\n",
    "driver.get(\"https://cup.pami.org.ar/controllers/loginController.php\")\n",
    "usuario=WebDriverWait(driver,10).until(EC.visibility_of_element_located((By.XPATH,\"//*[@id='usua_logeo']\")))\n",
    "usuario.send_keys(usuario.usuario[0]) #anonimizar\n",
    "driver.find_element(By.ID, \"password\").send_keys(usuario.clave[0])#anonimizar\n",
    "ingresa=WebDriverWait(driver,10).until(EC.visibility_of_element_located((By.XPATH,\"//*[@id='nu_ingresar']/input\")))\n",
    "time.sleep(2)\n",
    "ingresa.click()\n",
    "#ingresar al menu ome y abrir la ventana ome, guardar handle para hacer los switch posteriormente\n",
    "busque_ome=driver.find_elements(By.ID,'cup_ome')\n",
    "pagina_cup=driver.current_window_handle\n",
    "#si la ventana esta chica y el menu no se ve\n",
    "if busque_ome:\n",
    "    busque_ome[0].click()\n",
    "else:\n",
    "    driver.find_element(By.XPATH,\"//*[@id='sades_desplegable_box']/label\").click()\n",
    "    ome=WebDriverWait(driver,5).until(EC.visibility_of_element_located((By.ID,'cup_mome')))\n",
    "    ome.click()\n",
    "#cambio a pagina OME primera pestana, buscar paciente por numero de afiliado\n",
    "pagina_ome=driver.window_handles[1]\n",
    "driver.switch_to.window(pagina_ome)\n",
    "#loop para cargar todas las practicas por paciente\n",
    "for i in practicas.index:\n",
    "    driver.find_element(By.ID, \"pe-n_afiliado\").send_keys(practicas['naf'][i])\n",
    "    driver.find_element(By.ID, \"pe-btn-bsq-afiliado\").click()\n",
    "    time.sleep(1)\n",
    "    #cargar codigo diagnostico\n",
    "    driver.find_element(By.ID, \"pe-diagnostico_cod\").send_keys(\"I10\")# vamos a dejar siempre el mismo diagnostico para simplicar\n",
    "    diag=WebDriverWait(driver,5).until(EC.visibility_of_element_located(\n",
    "        (By.XPATH,\"//*[@id='main']/div/section[3]/div/div[1]/div/ul/li\")))\n",
    "    diag.click()\n",
    "    #cargar prestacion\n",
    "    driver.find_element(By.ID, \"pe-practica\").send_keys(practicas['codigo'][i])#aca va el codigo de la practica\n",
    "    cod_prest=WebDriverWait(driver,5).until(EC.visibility_of_element_located(\n",
    "        (By.XPATH,\"//*[@id='main']/div/section[4]/div[2]/div[1]/div/ul/li/a\")))\n",
    "    cod_prest.click()\n",
    "\n",
    "#Generar todas las consultas cargadas\n",
    "driver.find_element(By.ID, \"pe-btn-generar-orden\").click()\n",
    "time.sleep(1)\n",
    "driver.find_element(By.ID, \"pe-btn-confirmar-generar-orden\").click()\n",
    "time.sleep(1)\n",
    "driver.find_element(By.XPATH, \"/html/body/div[7]/button\").click()\n"
   ]
  }
 ],
 "metadata": {
  "kernelspec": {
   "display_name": "Python 3 (ipykernel)",
   "language": "python",
   "name": "python3"
  },
  "language_info": {
   "codemirror_mode": {
    "name": "ipython",
    "version": 3
   },
   "file_extension": ".py",
   "mimetype": "text/x-python",
   "name": "python",
   "nbconvert_exporter": "python",
   "pygments_lexer": "ipython3",
   "version": "3.9.13"
  }
 },
 "nbformat": 4,
 "nbformat_minor": 4
}
